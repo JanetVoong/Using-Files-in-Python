{
 "cells": [
  {
   "cell_type": "markdown",
   "metadata": {},
   "source": [
    "lesson slides: https://docs.google.com/presentation/d/1ke7lm8EvRXuigjYowAgiTyNiuf2fyGYrFw-fI60tkq8/edit#slide=id.g1cce80a6f7_0_13\n",
    "\n",
    "# File exercises: Reading from files\n",
    "\n",
    "- Create a new text file with one word per line\n",
    "\n",
    "- Open the file and print all the words in uppercase\n",
    "\n",
    "- Open the file and print the length of the each word on a new line\n",
    "\n",
    "- Open the file and print the word backwards\n",
    "\n",
    "- Open the file and print the vowels of each word, use stars (\\*) for the consonants (eg banana will be printed as \\*a\\*a\\*a )\n",
    "\n",
    "- Open the file and print the scrabble score of each word (scrabble score rules on next page)"
   ]
  },
  {
   "cell_type": "code",
   "execution_count": 18,
   "metadata": {},
   "outputs": [
    {
     "name": "stdout",
     "output_type": "stream",
     "text": [
      "HELLO\n",
      "\n",
      "WORLD\n",
      "\n",
      "HOW\n",
      "\n",
      "ARE\n",
      "\n",
      "YOU\n",
      "\n",
      "TODAY\n"
     ]
    }
   ],
   "source": [
    "# opening and reading a file on a new line\n",
    "# make the words uppercase\n",
    "file = open(\"example.txt\", \"r\")\n",
    "for line in file:\n",
    "    print(line.upper())\n",
    "file.close()"
   ]
  },
  {
   "cell_type": "code",
   "execution_count": 40,
   "metadata": {},
   "outputs": [
    {
     "name": "stdout",
     "output_type": "stream",
     "text": [
      "hello\n",
      " 6\n",
      "world\n",
      " 6\n",
      "how\n",
      " 4\n",
      "are\n",
      " 4\n",
      "you\n",
      " 4\n",
      "today 5\n"
     ]
    }
   ],
   "source": [
    "# print the lengths of each line\n",
    "file = open(\"example.txt\", \"r\")\n",
    "for line in file:\n",
    "    print(line, len(line))\n",
    "file.close()"
   ]
  },
  {
   "cell_type": "code",
   "execution_count": 46,
   "metadata": {},
   "outputs": [
    {
     "name": "stdout",
     "output_type": "stream",
     "text": [
      "\n",
      "olleh\n",
      "\n",
      "dlrow\n",
      "\n",
      "woh\n",
      "\n",
      "era\n",
      "\n",
      "uoy\n",
      "yadot\n"
     ]
    }
   ],
   "source": [
    "file = open(\"example.txt\", \"r\")\n",
    "for line in file:\n",
    "    print(line[::-1])\n",
    "file.close()"
   ]
  },
  {
   "cell_type": "code",
   "execution_count": 61,
   "metadata": {},
   "outputs": [
    {
     "name": "stdout",
     "output_type": "stream",
     "text": [
      "hello\n",
      "\n",
      "hello\n",
      "\n",
      "hello\n",
      "\n",
      "hello\n",
      "\n",
      "hello\n",
      "\n",
      "hello\n",
      "\n",
      "world\n",
      "\n",
      "world\n",
      "\n",
      "world\n",
      "\n",
      "world\n",
      "\n",
      "world\n",
      "\n",
      "world\n",
      "\n",
      "how\n",
      "\n",
      "how\n",
      "\n",
      "how\n",
      "\n",
      "how\n",
      "\n",
      "are\n",
      "\n",
      "are\n",
      "\n",
      "are\n",
      "\n",
      "are\n",
      "\n",
      "you\n",
      "\n",
      "you\n",
      "\n",
      "you\n",
      "\n",
      "you\n",
      "\n",
      "today\n",
      "today\n",
      "today\n",
      "today\n",
      "today\n"
     ]
    }
   ],
   "source": [
    "file = open(\"example.txt\", \"r\")\n",
    "for line in file:\n",
    "    for letter in line:\n",
    "        if letter != \"a\" or \"e\" or \"i\" or \"o\" or \"u\":\n",
    "            for i in letter:\n",
    "                letter.replace(i,\"*\")\n",
    "                print(line)\n",
    "file.close()"
   ]
  }
 ],
 "metadata": {
  "kernelspec": {
   "display_name": "Python 3",
   "language": "python",
   "name": "python3"
  },
  "language_info": {
   "codemirror_mode": {
    "name": "ipython",
    "version": 3
   },
   "file_extension": ".py",
   "mimetype": "text/x-python",
   "name": "python",
   "nbconvert_exporter": "python",
   "pygments_lexer": "ipython3",
   "version": "3.5.2"
  }
 },
 "nbformat": 4,
 "nbformat_minor": 2
}
